{
 "cells": [
  {
   "cell_type": "code",
   "execution_count": 1,
   "metadata": {},
   "outputs": [],
   "source": [
    "from pokemon import *\n",
    "from pokemon_statistics import *\n",
    "from simulator import runSim, runSimList\n",
    "import sqlite3\n",
    "import requests\n",
    "import pickle"
   ]
  },
  {
   "cell_type": "code",
   "execution_count": 2,
   "metadata": {},
   "outputs": [],
   "source": [
    "import pickle\n",
    "f = open(\"movedex.pkl\", \"rb\")\n",
    "movedex = pickle.load(f)\n",
    "f.close()"
   ]
  },
  {
   "cell_type": "code",
   "execution_count": 3,
   "metadata": {},
   "outputs": [],
   "source": [
    "def genMoveCombos(pokes, side, hitAlly=True):\n",
    "    poke1 = pokes[0]\n",
    "    poke2 = pokes[1]\n",
    "    \n",
    "    base = \">\" + side\n",
    "    combos = []\n",
    "    \n",
    "    p1 = poke1.moves + poke1.pred_moves[:4 - len(poke1.moves)]\n",
    "    p2 = poke2.moves + poke2.pred_moves[:4 - len(poke2.moves)]\n",
    "    \n",
    "    moves1 = []\n",
    "    moves2 = []\n",
    "    \n",
    "    for m1 in p1:\n",
    "        moves1.append(targetChoices(m1, ' -2', hitAlly))\n",
    "        \n",
    "    for m2 in p2:\n",
    "        moves2.append(targetChoices(m2, ' -1', hitAlly))\n",
    "        \n",
    "    for i1 in range(len(p1)):\n",
    "        m1 = base + ' move ' + str(i1 + 1)\n",
    "        for t1 in moves1[i1]:\n",
    "            m2 = m1 + t1\n",
    "            for i2 in range(len(p2)):\n",
    "                m3 = m2 + ', move ' + str(i2 + 1)\n",
    "                for t2 in moves2[i2]:\n",
    "                    m4 = m3 + t2 + '\\n'\n",
    "                    combos.append(m4)\n",
    "\n",
    "    return combos\n",
    "                    \n",
    "def targetChoices(move, ally, hitAlly=True):\n",
    "    v = movedex[move.lower()]\n",
    "    \n",
    "    if v == 'adjacentAlly':\n",
    "        return [ally]\n",
    "    if v == 'adjacentAllyOrSelf':\n",
    "        return ['-1', '-2']\n",
    "    if v == 'adjacentFoe':\n",
    "        return [' 1', ' 2']\n",
    "    if v == 'all':\n",
    "        return ['  ']\n",
    "    if v == 'allAdjacent':\n",
    "        return ['  ']\n",
    "    if v == 'allAdjacentFoes':\n",
    "        return ['  ']\n",
    "    if v == 'allies':\n",
    "        return ['  ']\n",
    "    if v == 'allySide':\n",
    "        return ['  ']\n",
    "    if v == 'allyTeam':\n",
    "        return ['  ']\n",
    "    if v == 'any':\n",
    "        if hitAlly:\n",
    "            return [ally, ' 1', ' 2']\n",
    "        else:\n",
    "            return [' 1', ' 2']\n",
    "    if v == 'foeSide':\n",
    "        return ['  ']\n",
    "    if v == 'normal':\n",
    "        if hitAlly:\n",
    "            return [ally, ' 1', ' 2']\n",
    "        else:\n",
    "            return [' 1', ' 2']\n",
    "    if v == 'randomNormal':\n",
    "        return ['  ']\n",
    "    if v == 'scripted':\n",
    "        return ['  ']\n",
    "    if v == 'self':\n",
    "        return ['  ']\n",
    "        "
   ]
  },
  {
   "cell_type": "markdown",
   "metadata": {},
   "source": [
    "# Testing below this point"
   ]
  },
  {
   "cell_type": "code",
   "execution_count": 4,
   "metadata": {},
   "outputs": [],
   "source": [
    "ms = state()\n",
    "ms.team1 = team()\n",
    "ms.team2 = team()"
   ]
  },
  {
   "cell_type": "code",
   "execution_count": 5,
   "metadata": {},
   "outputs": [],
   "source": [
    "ms.team1.side = 'p1'\n",
    "ms.team1.full = []\n",
    "ms.team1.full.append(createPikalyticsPokemon('incineroar'))\n",
    "ms.team1.full.append(createPikalyticsPokemon('regieleki'))\n",
    "ms.team1.full.append(createPikalyticsPokemon('landorus-therian'))\n",
    "ms.team1.full.append(createPikalyticsPokemon('rillaboom'))\n",
    "ms.team1.full.append(createPikalyticsPokemon('urshifu-rapid-strike'))\n",
    "ms.team1.full.append(createPikalyticsPokemon('porygon2'))\n",
    "\n",
    "ms.team1.active.append(ms.team1.full[0])\n",
    "ms.team1.active.append(ms.team1.full[1])"
   ]
  },
  {
   "cell_type": "code",
   "execution_count": 6,
   "metadata": {},
   "outputs": [],
   "source": [
    "ms.team2.side = 'p2'\n",
    "ms.team2.full = []\n",
    "ms.team2.full.append(createPikalyticsPokemon('urshifu'))\n",
    "ms.team2.full.append(createPikalyticsPokemon('grimmsnarl'))\n",
    "ms.team2.full.append(createPikalyticsPokemon('torkoal'))\n",
    "ms.team2.full.append(createPikalyticsPokemon('venusaur'))\n",
    "ms.team2.full.append(createPikalyticsPokemon('thundurus'))\n",
    "ms.team2.full.append(createPikalyticsPokemon('tapu fini'))\n",
    "\n",
    "ms.team2.active.append(ms.team2.full[0])\n",
    "ms.team2.active.append(ms.team2.full[1])"
   ]
  },
  {
   "cell_type": "code",
   "execution_count": 21,
   "metadata": {},
   "outputs": [
    {
     "name": "stdout",
     "output_type": "stream",
     "text": [
      "48\n",
      "42\n",
      "2016\n"
     ]
    }
   ],
   "source": [
    "p1moves = genMoveCombos((ms.team1.active[0], ms.team1.active[1]), 'p1', False)\n",
    "p2moves = genMoveCombos((ms.team2.active[0], ms.team2.active[1]), 'p2', False)\n",
    "print(len(p1moves))\n",
    "print(len(p2moves))\n",
    "print(len(p2moves) * len(p1moves))"
   ]
  },
  {
   "cell_type": "code",
   "execution_count": 8,
   "metadata": {
    "scrolled": false
   },
   "outputs": [
    {
     "name": "stdout",
     "output_type": "stream",
     "text": [
      "Best:\t ('>p1 move 1 2, move 3 1\\n', 36.58191086113557)\n",
      "CPU times: user 4.89 ms, sys: 144 ms, total: 148 ms\n",
      "Wall time: 6.29 s\n"
     ]
    },
    {
     "data": {
      "text/plain": [
       "['>p1 move 1 2, move 3 1\\n',\n",
       " '>p1 move 1 2, move 2 1\\n',\n",
       " '>p1 move 3 2, move 2 1\\n',\n",
       " '>p1 move 3 2, move 3 1\\n',\n",
       " '>p1 move 2 2, move 2 1\\n']"
      ]
     },
     "execution_count": 8,
     "metadata": {},
     "output_type": "execute_result"
    }
   ],
   "source": [
    "%%time\n",
    "round1 = runSimList(ms, p1moves, p2moves, side=1, sims_proc=30)\n",
    "p1best = [x[0] for x in round1[:5]]\n",
    "p1best"
   ]
  },
  {
   "cell_type": "code",
   "execution_count": 9,
   "metadata": {},
   "outputs": [
    {
     "name": "stdout",
     "output_type": "stream",
     "text": [
      "Best:\t ('>p2 move 1 2, move 1 1\\n', 37.570297275865066)\n",
      "CPU times: user 44.9 ms, sys: 137 ms, total: 182 ms\n",
      "Wall time: 6.89 s\n"
     ]
    },
    {
     "data": {
      "text/plain": [
       "['>p2 move 1 2, move 1 1\\n',\n",
       " '>p2 move 2 2, move 2  \\n',\n",
       " '>p2 move 2 2, move 1 1\\n',\n",
       " '>p2 move 1 2, move 4 1\\n',\n",
       " '>p2 move 1 2, move 2  \\n']"
      ]
     },
     "execution_count": 9,
     "metadata": {},
     "output_type": "execute_result"
    }
   ],
   "source": [
    "%%time\n",
    "round2 = runSimList(ms, p1best, p2moves, side=2, sims_proc=40)\n",
    "p2best = [x[0] for x in round2[:5]]\n",
    "p2best"
   ]
  },
  {
   "cell_type": "code",
   "execution_count": 22,
   "metadata": {},
   "outputs": [
    {
     "name": "stdout",
     "output_type": "stream",
     "text": [
      "Best:\t ('>p1 move 3 2, move 3 1\\n', 17.236229910356045)\n",
      "CPU times: user 49.8 ms, sys: 212 ms, total: 262 ms\n",
      "Wall time: 7.05 s\n"
     ]
    },
    {
     "data": {
      "text/plain": [
       "['>p1 move 3 2, move 3 1\\n',\n",
       " '>p1 move 3 1, move 3 1\\n',\n",
       " '>p1 move 1 2, move 3 1\\n',\n",
       " '>p1 move 3 1, move 3 2\\n',\n",
       " '>p1 move 1 1, move 3 2\\n']"
      ]
     },
     "execution_count": 22,
     "metadata": {},
     "output_type": "execute_result"
    }
   ],
   "source": [
    "%%time\n",
    "round3 = runSimList(ms, p1moves, p2best, side=1, sims_proc=50)\n",
    "final_moves = [x[0] for x in round3[:5]]\n",
    "final_moves"
   ]
  },
  {
   "cell_type": "code",
   "execution_count": 23,
   "metadata": {},
   "outputs": [
    {
     "data": {
      "text/plain": [
       "[('>p1 move 3 2, move 3 1\\n', 17.236229910356045),\n",
       " ('>p1 move 3 1, move 3 1\\n', 16.446330559185636),\n",
       " ('>p1 move 1 2, move 3 1\\n', 11.861476988537632),\n",
       " ('>p1 move 3 1, move 3 2\\n', 5.09878779227546),\n",
       " ('>p1 move 1 1, move 3 2\\n', 4.629483128783281),\n",
       " ('>p1 move 1 1, move 3 1\\n', 2.5520949921527514),\n",
       " ('>p1 move 1 2, move 2 1\\n', 2.1518834837230383),\n",
       " ('>p1 move 4 2, move 3 1\\n', -1.5125368548960285),\n",
       " ('>p1 move 3 2, move 3 2\\n', -5.628113283477246),\n",
       " ('>p1 move 2 1, move 3 1\\n', -5.949979136575186),\n",
       " ('>p1 move 2 2, move 3 1\\n', -6.3526056815014815),\n",
       " ('>p1 move 4 1, move 3 1\\n', -7.43222871816036),\n",
       " ('>p1 move 1 2, move 3 2\\n', -9.350064074182484),\n",
       " ('>p1 move 3 1, move 2 1\\n', -13.119812916981914),\n",
       " ('>p1 move 1 1, move 1  \\n', -13.390394354328905),\n",
       " ('>p1 move 4 2, move 2 1\\n', -13.678488662677399),\n",
       " ('>p1 move 2 2, move 2 1\\n', -14.829451409096286),\n",
       " ('>p1 move 2 1, move 2 1\\n', -14.925116353715287),\n",
       " ('>p1 move 4 1, move 2 1\\n', -16.11052387830433),\n",
       " ('>p1 move 1 1, move 2 2\\n', -16.70517059700685),\n",
       " ('>p1 move 1 1, move 2 1\\n', -16.92129765916958),\n",
       " ('>p1 move 1 2, move 1  \\n', -18.64639519213786),\n",
       " ('>p1 move 3 2, move 2 1\\n', -19.247810716005223),\n",
       " ('>p1 move 2 1, move 3 2\\n', -28.8882220949533),\n",
       " ('>p1 move 4 2, move 3 2\\n', -29.042153150602942),\n",
       " ('>p1 move 1 2, move 2 2\\n', -29.290592909984003),\n",
       " ('>p1 move 2 2, move 3 2\\n', -33.7520989637644),\n",
       " ('>p1 move 4 2, move 1  \\n', -33.83635454480834),\n",
       " ('>p1 move 4 1, move 3 2\\n', -34.65185565122998),\n",
       " ('>p1 move 2 1, move 1  \\n', -39.24642830356474),\n",
       " ('>p1 move 3 2, move 2 2\\n', -39.41059655523645),\n",
       " ('>p1 move 4 1, move 1  \\n', -39.459276933536245),\n",
       " ('>p1 move 3 1, move 1  \\n', -39.598902525558536),\n",
       " ('>p1 move 2 2, move 1  \\n', -41.605997984051),\n",
       " ('>p1 move 3 2, move 1  \\n', -42.1513686966598),\n",
       " ('>p1 move 2 1, move 2 2\\n', -43.6391032264286),\n",
       " ('>p1 move 2 2, move 2 2\\n', -43.670552086382784),\n",
       " ('>p1 move 4 2, move 2 2\\n', -43.843862225587884),\n",
       " ('>p1 move 4 1, move 2 2\\n', -48.677775654068775),\n",
       " ('>p1 move 3 1, move 2 2\\n', -48.75445337746348),\n",
       " ('>p1 move 1 1, move 4  \\n', -55.84552628562256),\n",
       " ('>p1 move 1 2, move 4  \\n', -64.10233933267688),\n",
       " ('>p1 move 3 2, move 4  \\n', -84.42465093885414),\n",
       " ('>p1 move 2 1, move 4  \\n', -87.88756127198113),\n",
       " ('>p1 move 3 1, move 4  \\n', -88.38369443107044),\n",
       " ('>p1 move 2 2, move 4  \\n', -88.84339947208359),\n",
       " ('>p1 move 4 2, move 4  \\n', -88.93866153105436),\n",
       " ('>p1 move 4 1, move 4  \\n', -91.90441341678701)]"
      ]
     },
     "execution_count": 23,
     "metadata": {},
     "output_type": "execute_result"
    }
   ],
   "source": [
    "round3"
   ]
  },
  {
   "cell_type": "code",
   "execution_count": 11,
   "metadata": {},
   "outputs": [
    {
     "name": "stdout",
     "output_type": "stream",
     "text": [
      "incineroar\n",
      "['FlareBlitz', 'FakeOut', 'PartingShot', 'Taunt']\n"
     ]
    }
   ],
   "source": [
    "print(ms.team1.active[0].name)\n",
    "print(ms.team1.active[0].pred_moves)"
   ]
  },
  {
   "cell_type": "code",
   "execution_count": 12,
   "metadata": {},
   "outputs": [
    {
     "name": "stdout",
     "output_type": "stream",
     "text": [
      "regieleki\n",
      "['Electroweb', 'Thunderbolt', 'VoltSwitch', 'Protect']\n"
     ]
    }
   ],
   "source": [
    "print(ms.team1.active[1].name)\n",
    "print(ms.team1.active[1].pred_moves)"
   ]
  },
  {
   "cell_type": "code",
   "execution_count": 13,
   "metadata": {},
   "outputs": [
    {
     "name": "stdout",
     "output_type": "stream",
     "text": [
      "urshifu\n",
      "['CloseCombat', 'WickedBlow', 'SuckerPunch', 'Protect']\n"
     ]
    }
   ],
   "source": [
    "print(ms.team2.active[0].name)\n",
    "print(ms.team2.active[0].pred_moves)"
   ]
  },
  {
   "cell_type": "code",
   "execution_count": 14,
   "metadata": {},
   "outputs": [
    {
     "name": "stdout",
     "output_type": "stream",
     "text": [
      "grimmsnarl\n",
      "['SpiritBreak', 'LightScreen', 'Reflect', 'FakeTears']\n"
     ]
    }
   ],
   "source": [
    "print(ms.team2.active[1].name)\n",
    "print(ms.team2.active[1].pred_moves)"
   ]
  },
  {
   "cell_type": "code",
   "execution_count": 15,
   "metadata": {},
   "outputs": [
    {
     "ename": "SyntaxError",
     "evalue": "cannot assign to literal (<ipython-input-15-c0ab9e3898ea>, line 1)",
     "output_type": "error",
     "traceback": [
      "\u001b[0;36m  File \u001b[0;32m\"<ipython-input-15-c0ab9e3898ea>\"\u001b[0;36m, line \u001b[0;32m1\u001b[0m\n\u001b[0;31m    1 = 2\u001b[0m\n\u001b[0m    ^\u001b[0m\n\u001b[0;31mSyntaxError\u001b[0m\u001b[0;31m:\u001b[0m cannot assign to literal\n"
     ]
    }
   ],
   "source": [
    "1 = 2"
   ]
  },
  {
   "cell_type": "code",
   "execution_count": null,
   "metadata": {
    "scrolled": false
   },
   "outputs": [],
   "source": [
    "p1 = createPikalyticsPokemon('incineroar')\n",
    "p2 = createPikalyticsPokemon('regieleki')\n",
    "\n",
    "p3 = createPikalyticsPokemon('urshifu')\n",
    "p4 = createPikalyticsPokemon('grimmsnarl')\n",
    "\n",
    "combos = genMoveCombos([p1, p2], 'p1', False)\n",
    "print(len(combos))\n",
    "\n",
    "combos2 = genMoveCombos([p3, p4], 'p2', False)\n",
    "print(len(combos2))\n",
    "\n",
    "print(len(combos) * len(combos2))\n",
    "\n",
    "combos"
   ]
  },
  {
   "cell_type": "code",
   "execution_count": null,
   "metadata": {},
   "outputs": [],
   "source": []
  },
  {
   "cell_type": "code",
   "execution_count": null,
   "metadata": {},
   "outputs": [],
   "source": [
    "def makeFormatString(poke_name, moves=[], maxmoves=[], ability='', item=''):\n",
    "    # I should check the poke_name against table names in database or \n",
    "    # else ill get sql injected problem here, granted the consequences are small \n",
    "    # but lets be honest it also probably isnt\n",
    "    # put in a validate statement like if(validate(poke_name))\n",
    "        \n",
    "    format_string = 'SELECT * FROM ' + poke_name \n",
    "    format_tuple = ()\n",
    "    \n",
    "    where = False\n",
    "    \n",
    "    for move in moves:\n",
    "        if where:\n",
    "            format_string += ' AND (move1=? OR move2=? OR move3=? OR move4=?)'\n",
    "        else:\n",
    "            format_string += ' WHERE (move1=? OR move2=? OR move3=? OR move4=?)'\n",
    "            where = True\n",
    "        format_tuple += (move, move, move, move)\n",
    "    \n",
    "    for move in maxmoves:\n",
    "        if where:\n",
    "            format_string += ' AND (maxmove1=? OR maxmove2=? OR maxmove3=? OR maxmove4=?)'\n",
    "        else:\n",
    "            format_string += ' WHERE (maxmove1=? OR maxmove2=? OR maxmove3=? OR maxmove4=?)'\n",
    "            where = True\n",
    "        format_tuple += (move, move, move, move)\n",
    "                \n",
    "    if ability_name != '':\n",
    "        if where: \n",
    "            format_string += ' AND ability=?'\n",
    "        else:\n",
    "            format_string += ' WHERE ability=?'\n",
    "            where = True\n",
    "        format_tuple += (ability_name,)\n",
    "        \n",
    "    if item_name != '':\n",
    "        if where: \n",
    "            format_string += ' AND item=?'\n",
    "        else:\n",
    "            format_string += ' WHERE item=?'\n",
    "            where = True\n",
    "        format_tuple += (item_name,)\n",
    "    \n",
    "    \n",
    "    return format_string, format_tuple\n",
    "\n",
    "def update_freq(freq, key):\n",
    "    if key in freq:\n",
    "        freq[key] += 1\n",
    "    else:\n",
    "        freq[key] = 1\n",
    "        \n",
    "def update_predictions(pokemon):\n",
    "    format_string, format_tuple = makeFormatString(pokemon.name, pokemon.moves, pokemon.max_moves, \n",
    "                                                   pokemon.ability, pokemon.item)\n",
    "    cursor.execute(format_string, format_tuple)\n",
    "    \n",
    "    total = 0\n",
    "    move_freq = {}\n",
    "    ability_freq = {}\n",
    "    item_freq = {}\n",
    "    for (num_id, ability, item, move1, move2, move3, move4, _, _, _, _) in cursor:\n",
    "        total += 1\n",
    "\n",
    "        update_freq(ability_freq, ability)\n",
    "        update_freq(item_freq, item)\n",
    "\n",
    "        update_freq(move_freq, move1)\n",
    "        update_freq(move_freq, move2)\n",
    "        update_freq(move_freq, move3)\n",
    "        update_freq(move_freq, move4)\n",
    "    \n",
    "    if \"UNKNOWN\" in ability_freq.keys():\n",
    "        ability_freq.pop(\"UNKNOWN\")\n",
    "    if \"UNKNOWN\" in item_freq.keys():\n",
    "        item_freq.pop(\"UNKNOWN\")\n",
    "    if \"UNKNOWN\" in move_freq.keys():\n",
    "        move_freq.pop(\"UNKNOWN\")\n",
    "    if \"UNKNOWN\" in maxmove_freq.keys():\n",
    "        maxmove_freq.pop(\"UNKNOWN\")\n",
    "    \n",
    "    if (pokemon.ability == ''):\n",
    "        key, _ = max(ability_freq.items(), key=lambda x:x[1])\n",
    "        pokemon.pred_ability = key\n",
    "    \n",
    "    if (pokemon.item == ''):\n",
    "        key, _ = max(item_freq.items(), key=lambda x:x[1])\n",
    "        pokemon.pred_item = key\n",
    "    \n",
    "    pokemon.pred_moves = []\n",
    "    for i in range(4 - len(pokemon.moves)):\n",
    "        key, _ = max(move_freq.items(), key=lambda x:x[1])\n",
    "        pokemon.pred_moves.append(key)\n",
    "        move_freq.pop(key)\n",
    "    "
   ]
  },
  {
   "cell_type": "code",
   "execution_count": null,
   "metadata": {},
   "outputs": [],
   "source": [
    "connection = sqlite3.connect(\"pokemon_profiles.db\")\n",
    "cursor = connection.cursor()"
   ]
  },
  {
   "cell_type": "code",
   "execution_count": null,
   "metadata": {},
   "outputs": [],
   "source": []
  }
 ],
 "metadata": {
  "kernelspec": {
   "display_name": "Python 3",
   "language": "python",
   "name": "python3"
  },
  "language_info": {
   "codemirror_mode": {
    "name": "ipython",
    "version": 3
   },
   "file_extension": ".py",
   "mimetype": "text/x-python",
   "name": "python",
   "nbconvert_exporter": "python",
   "pygments_lexer": "ipython3",
   "version": "3.8.5"
  }
 },
 "nbformat": 4,
 "nbformat_minor": 4
}
